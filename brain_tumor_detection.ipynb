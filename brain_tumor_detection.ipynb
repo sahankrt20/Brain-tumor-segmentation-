{
  "nbformat": 4,
  "nbformat_minor": 0,
  "metadata": {
    "colab": {
      "provenance": [],
      "mount_file_id": "1JIb8440qEjKQmkpJZzI4gT4OBZF_ozfc",
      "authorship_tag": "ABX9TyPihSqGuOm/XbdNzk0Tb1jf",
      "include_colab_link": true
    },
    "kernelspec": {
      "name": "python3",
      "display_name": "Python 3"
    },
    "language_info": {
      "name": "python"
    }
  },
  "cells": [
    {
      "cell_type": "markdown",
      "metadata": {
        "id": "view-in-github",
        "colab_type": "text"
      },
      "source": [
        "<a href=\"https://colab.research.google.com/github/sahankrt20/Brain-tumor-segmentation-/blob/main/brain_tumor_detection.ipynb\" target=\"_parent\"><img src=\"https://colab.research.google.com/assets/colab-badge.svg\" alt=\"Open In Colab\"/></a>"
      ]
    },
    {
      "cell_type": "code",
      "execution_count": 2,
      "metadata": {
        "colab": {
          "base_uri": "https://localhost:8080/"
        },
        "id": "e-FWfAC62uWF",
        "outputId": "cb433451-b9d7-48ff-be51-8432052a713c"
      },
      "outputs": [
        {
          "output_type": "stream",
          "name": "stdout",
          "text": [
            "Drive already mounted at /content/drive; to attempt to forcibly remount, call drive.mount(\"/content/drive\", force_remount=True).\n"
          ]
        }
      ],
      "source": [
        "from google.colab import drive\n",
        "drive.mount(\"/content/drive\")"
      ]
    },
    {
      "cell_type": "code",
      "source": [
        "import os\n",
        "from PIL import Image\n",
        "from torchvision import transforms,models,datasets\n",
        "import torch\n",
        "import torch.nn as nn\n",
        "import torch.optim as optim\n",
        "import numpy as np"
      ],
      "metadata": {
        "id": "7rV6zCvp393t"
      },
      "execution_count": 3,
      "outputs": []
    },
    {
      "cell_type": "code",
      "source": [
        "train_dir='/content/drive/MyDrive/brain tumor/Training'\n",
        "test_dir='/content/drive/MyDrive/brain tumor/Testing'"
      ],
      "metadata": {
        "id": "RRweK6rT5mII"
      },
      "execution_count": 6,
      "outputs": []
    },
    {
      "cell_type": "code",
      "source": [
        "train_paths=[]\n",
        "train_labels=[]\n",
        "for label in os.listdir(train_dir):\n",
        "  for image in os.listdir(os.path.join(train_dir,label)):\n",
        "    train_paths.append(os.path.join(train_dir,label,image))\n",
        "    train_labels.append(label)"
      ],
      "metadata": {
        "colab": {
          "base_uri": "https://localhost:8080/"
        },
        "id": "l0AONrG85x7m",
        "outputId": "4088d165-e315-4fe9-b0af-f1be8509e94c"
      },
      "execution_count": 11,
      "outputs": [
        {
          "output_type": "stream",
          "name": "stdout",
          "text": [
            "Tr-piTr_0009.jpg\n",
            "Tr-piTr_0008.jpg\n",
            "Tr-piTr_0007.jpg\n",
            "Tr-piTr_0005.jpg\n",
            "Tr-piTr_0006.jpg\n",
            "Tr-piTr_0003.jpg\n",
            "Tr-piTr_0002.jpg\n",
            "Tr-piTr_0004.jpg\n",
            "Tr-piTr_0000.jpg\n",
            "Tr-piTr_0001.jpg\n"
          ]
        }
      ]
    },
    {
      "cell_type": "code",
      "source": [
        "train_paths"
      ],
      "metadata": {
        "colab": {
          "base_uri": "https://localhost:8080/"
        },
        "id": "IGbZqF7F6glh",
        "outputId": "af219f73-efdd-4099-81fe-986761fafdc6"
      },
      "execution_count": 8,
      "outputs": [
        {
          "output_type": "execute_result",
          "data": {
            "text/plain": [
              "['/content/drive/MyDrive/brain tumor/Training/pituitary/Tr-piTr_0009.jpg',\n",
              " '/content/drive/MyDrive/brain tumor/Training/pituitary/Tr-piTr_0008.jpg',\n",
              " '/content/drive/MyDrive/brain tumor/Training/pituitary/Tr-piTr_0007.jpg',\n",
              " '/content/drive/MyDrive/brain tumor/Training/pituitary/Tr-piTr_0005.jpg',\n",
              " '/content/drive/MyDrive/brain tumor/Training/pituitary/Tr-piTr_0006.jpg',\n",
              " '/content/drive/MyDrive/brain tumor/Training/pituitary/Tr-piTr_0003.jpg',\n",
              " '/content/drive/MyDrive/brain tumor/Training/pituitary/Tr-piTr_0002.jpg',\n",
              " '/content/drive/MyDrive/brain tumor/Training/pituitary/Tr-piTr_0004.jpg',\n",
              " '/content/drive/MyDrive/brain tumor/Training/pituitary/Tr-piTr_0000.jpg',\n",
              " '/content/drive/MyDrive/brain tumor/Training/pituitary/Tr-piTr_0001.jpg']"
            ]
          },
          "metadata": {},
          "execution_count": 8
        }
      ]
    },
    {
      "cell_type": "code",
      "source": [
        "len(train_paths)"
      ],
      "metadata": {
        "colab": {
          "base_uri": "https://localhost:8080/"
        },
        "id": "2-7sDB336iej",
        "outputId": "789371ed-29de-4ee7-fcd1-6ba5de90dbe1"
      },
      "execution_count": 9,
      "outputs": [
        {
          "output_type": "execute_result",
          "data": {
            "text/plain": [
              "10"
            ]
          },
          "metadata": {},
          "execution_count": 9
        }
      ]
    },
    {
      "cell_type": "code",
      "source": [
        "len(train_labels)"
      ],
      "metadata": {
        "colab": {
          "base_uri": "https://localhost:8080/"
        },
        "id": "kUyapgf66riA",
        "outputId": "2d72e641-a444-4093-db94-73e04b102238"
      },
      "execution_count": 10,
      "outputs": [
        {
          "output_type": "execute_result",
          "data": {
            "text/plain": [
              "10"
            ]
          },
          "metadata": {},
          "execution_count": 10
        }
      ]
    },
    {
      "cell_type": "code",
      "source": [],
      "metadata": {
        "id": "Y1r-byTV6tST"
      },
      "execution_count": null,
      "outputs": []
    }
  ]
}